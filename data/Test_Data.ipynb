{
 "cells": [
  {
   "cell_type": "markdown",
   "id": "44955e76-b444-4067-b2c3-693e082cd9a9",
   "metadata": {},
   "source": [
    "# Marburg Open Forest (MOF) and Białowieża National Park (BNP) test data sets"
   ]
  },
  {
   "cell_type": "markdown",
   "id": "167aef11-6d1e-4077-86a0-ba980fa902c5",
   "metadata": {},
   "source": [
    "The **Marburg Open Forest** data set consists of a collection of 2435 images showing 18 animal species (and 9 classes with higher taxonomic labels).\n",
    "The **Białowieża National Park** data set consists of a collection of 15,717 images showing 20 animal species (and 16 classes with higher taxonomic labels).\n",
    "\n",
    "\n",
    "The `img` folder contains the images grouped in subfolders by recording date and camera trap id. \n",
    "The `md` folder contains the metadata for each image, which constists of the bounding box detections obtained using the MegaDetector model (https://github.com/agentmorris/MegaDetector). The metadata is grouped into yaml-files for each label at different taxonomic levels. "
   ]
  },
  {
   "cell_type": "markdown",
   "id": "290c61a5-ef98-4d0c-938b-1f047eec625b",
   "metadata": {},
   "source": [
    "### Imports"
   ]
  },
  {
   "cell_type": "code",
   "execution_count": 1,
   "id": "d8e08e3d-f3d2-4d99-9731-b7a0816d824b",
   "metadata": {},
   "outputs": [],
   "source": [
    "import glob\n",
    "import yaml"
   ]
  },
  {
   "cell_type": "markdown",
   "id": "a38cf61c-00e6-4a79-82a3-af4ec8696942",
   "metadata": {},
   "source": [
    "### Download and extract the data sets"
   ]
  },
  {
   "cell_type": "code",
   "execution_count": 10,
   "id": "90b6c6c0-2a6f-415e-b42f-4ac77ada6934",
   "metadata": {},
   "outputs": [],
   "source": [
    "dataset_folders = \"MOF BNP\""
   ]
  },
  {
   "cell_type": "code",
   "execution_count": null,
   "id": "791d95b4-fc25-482a-b031-777683fe14fc",
   "metadata": {},
   "outputs": [],
   "source": [
    "!\"./data_download.sh\" \"$dataset_folders\""
   ]
  },
  {
   "cell_type": "markdown",
   "id": "7223eb19-cf4e-4c01-ab7c-6c3be2aaa303",
   "metadata": {},
   "source": [
    "### Check for completeness"
   ]
  },
  {
   "cell_type": "code",
   "execution_count": 4,
   "id": "ad17bbdc-e7c9-46c0-b29e-4f1bf1975919",
   "metadata": {},
   "outputs": [],
   "source": [
    "imgs = glob.glob(\"MOF/img/**/*.JPG\", recursive=True)\n",
    "assert len(imgs) == 2435, f\"{2435 - len(imgs)} missing image files\""
   ]
  },
  {
   "cell_type": "code",
   "execution_count": 5,
   "id": "18005f88-a668-468b-a5e4-b91866ae910a",
   "metadata": {},
   "outputs": [],
   "source": [
    "mds = glob.glob(\"MOF/md/**/*.yaml\", recursive=True)\n",
    "assert len(mds) == 27, f\"{27 - len(mds)} missing md files\""
   ]
  },
  {
   "cell_type": "code",
   "execution_count": 6,
   "id": "caf93801-48c6-4f9e-80c7-64766a041915",
   "metadata": {},
   "outputs": [],
   "source": [
    "meta_count = 0\n",
    "for md in mds:\n",
    "    with open(md) as f:\n",
    "        meta = yaml.load(f, yaml.SafeLoader)\n",
    "        meta_count += len(meta['images'])\n",
    "assert meta_count == 2731, f\"{2731 - meta_count} missing md entries\""
   ]
  },
  {
   "cell_type": "code",
   "execution_count": 13,
   "id": "42d505bc-89ad-41e8-abc0-3dc2e1c93069",
   "metadata": {},
   "outputs": [],
   "source": [
    "imgs = glob.glob(\"BNP/img/**/*.JPG\", recursive=True)\n",
    "assert len(imgs) == 15717, f\"{15717 - len(imgs)} missing image files\""
   ]
  },
  {
   "cell_type": "code",
   "execution_count": 14,
   "id": "5d0efccb-b310-4c6a-bc29-68455855ff8b",
   "metadata": {},
   "outputs": [],
   "source": [
    "mds = glob.glob(\"BNP/md/**/*.yaml\", recursive=True)\n",
    "assert len(mds) == 36, f\"{36 - len(mds)} missing md files\""
   ]
  },
  {
   "cell_type": "code",
   "execution_count": 15,
   "id": "3936e6a3-47ab-4678-ab6b-7a9c9dc24252",
   "metadata": {
    "tags": []
   },
   "outputs": [],
   "source": [
    "meta_count = 0\n",
    "for md in mds:\n",
    "    with open(md) as f:\n",
    "        meta = yaml.load(f, yaml.SafeLoader)\n",
    "        meta_count += len(meta['images'])\n",
    "assert meta_count == 16831, f\"{16831 - meta_count} missing md entries\""
   ]
  }
 ],
 "metadata": {
  "kernelspec": {
   "display_name": "Python 3 (ipykernel)",
   "language": "python",
   "name": "python3"
  },
  "language_info": {
   "codemirror_mode": {
    "name": "ipython",
    "version": 3
   },
   "file_extension": ".py",
   "mimetype": "text/x-python",
   "name": "python",
   "nbconvert_exporter": "python",
   "pygments_lexer": "ipython3",
   "version": "3.8.10"
  }
 },
 "nbformat": 4,
 "nbformat_minor": 5
}
